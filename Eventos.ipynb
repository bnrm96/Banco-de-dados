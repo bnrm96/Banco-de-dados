{
 "cells": [
  {
   "cell_type": "markdown",
   "metadata": {},
   "source": [
    "# **CLASSE DE EVENTOS**"
   ]
  },
  {
   "cell_type": "markdown",
   "metadata": {},
   "source": [
    "Essa classe é responsável por armazenar os eventos que ocorrem no sistema.\n",
    "\n",
    "**Exemplos:**\n",
    "\n",
    "- Alocar corretamente as aulas - envolve professores e alunos.\n",
    "- Alocar corretamente os laboratórios - envolve profissionais capacitados do lab. e inciantes.\n",
    "- Alocar corretamente um profissional do marketing com determinado produto específico.\n",
    "\n",
    "Para realizar essa tarefa, a classe deve realizar consultas nas tabelas de dadosn dos clientes e funcionários e verificar a disponibilidade de cada um deles."
   ]
  },
  {
   "cell_type": "code",
   "execution_count": 1,
   "metadata": {},
   "outputs": [],
   "source": [
    "# Importa as bibliotecas necessárias\n",
    "import pandas as pd\n",
    "import matplotlib.pyplot as plt"
   ]
  },
  {
   "cell_type": "markdown",
   "metadata": {},
   "source": [
    "## **Realiza a consulta nas tabelas**"
   ]
  },
  {
   "cell_type": "code",
   "execution_count": 2,
   "metadata": {},
   "outputs": [],
   "source": [
    "# Utiliza o arquivo csv dos Clientes\n",
    "DFclientes = pd.read_csv('DadosSistema/Clientes.csv')\n",
    "# Utiliza o arquivo csv dos Funcionários\n",
    "DFfuncionarios = pd.read_csv('DadosSistema/Funcionarios.csv')"
   ]
  },
  {
   "cell_type": "markdown",
   "metadata": {},
   "source": [
    "Verifica brevemente se os dados estão sendo importados corretamente."
   ]
  },
  {
   "cell_type": "code",
   "execution_count": 35,
   "metadata": {},
   "outputs": [
    {
     "data": {
      "text/html": [
       "<div>\n",
       "<style scoped>\n",
       "    .dataframe tbody tr th:only-of-type {\n",
       "        vertical-align: middle;\n",
       "    }\n",
       "\n",
       "    .dataframe tbody tr th {\n",
       "        vertical-align: top;\n",
       "    }\n",
       "\n",
       "    .dataframe thead th {\n",
       "        text-align: right;\n",
       "    }\n",
       "</style>\n",
       "<table border=\"1\" class=\"dataframe\">\n",
       "  <thead>\n",
       "    <tr style=\"text-align: right;\">\n",
       "      <th></th>\n",
       "      <th>Matricula</th>\n",
       "      <th>Nome</th>\n",
       "      <th>Data/Nasc</th>\n",
       "      <th>Sexo</th>\n",
       "      <th>CPF</th>\n",
       "      <th>Endereço</th>\n",
       "      <th>Telefone</th>\n",
       "      <th>Email</th>\n",
       "      <th>Serviços</th>\n",
       "    </tr>\n",
       "  </thead>\n",
       "  <tbody>\n",
       "    <tr>\n",
       "      <th>0</th>\n",
       "      <td>1</td>\n",
       "      <td>João Santino</td>\n",
       "      <td>1998-01-03</td>\n",
       "      <td>True</td>\n",
       "      <td>123456789</td>\n",
       "      <td>Rua 1</td>\n",
       "      <td>23456789</td>\n",
       "      <td>email1@gmail.com</td>\n",
       "      <td>['matemática', 'inglês']</td>\n",
       "    </tr>\n",
       "    <tr>\n",
       "      <th>1</th>\n",
       "      <td>2</td>\n",
       "      <td>Maria Vitctoria</td>\n",
       "      <td>2000-01-04</td>\n",
       "      <td>False</td>\n",
       "      <td>123456789</td>\n",
       "      <td>Rua 2</td>\n",
       "      <td>22222223</td>\n",
       "      <td>emailmaria@hotmail.com</td>\n",
       "      <td>['matemática']</td>\n",
       "    </tr>\n",
       "    <tr>\n",
       "      <th>2</th>\n",
       "      <td>3</td>\n",
       "      <td>Léo Sales</td>\n",
       "      <td>2001-02-10</td>\n",
       "      <td>True</td>\n",
       "      <td>123456789</td>\n",
       "      <td>Rua 3</td>\n",
       "      <td>33333334</td>\n",
       "      <td>emailleo@hotmail.com</td>\n",
       "      <td>['matemática', 'português']</td>\n",
       "    </tr>\n",
       "    <tr>\n",
       "      <th>3</th>\n",
       "      <td>4</td>\n",
       "      <td>Madre Teresino</td>\n",
       "      <td>2002-01-14</td>\n",
       "      <td>False</td>\n",
       "      <td>123456789</td>\n",
       "      <td>Rua Denório</td>\n",
       "      <td>44444449</td>\n",
       "      <td>emailmadre@hotmail.com</td>\n",
       "      <td>['matemática', 'fisica']</td>\n",
       "    </tr>\n",
       "    <tr>\n",
       "      <th>4</th>\n",
       "      <td>5</td>\n",
       "      <td>Thiago Ferreira</td>\n",
       "      <td>1990-08-21</td>\n",
       "      <td>True</td>\n",
       "      <td>123456789</td>\n",
       "      <td>Rua Flincher</td>\n",
       "      <td>66666666</td>\n",
       "      <td>thiagoa@hotmail.com</td>\n",
       "      <td>['matemática']</td>\n",
       "    </tr>\n",
       "    <tr>\n",
       "      <th>5</th>\n",
       "      <td>6</td>\n",
       "      <td>Douglas Costela</td>\n",
       "      <td>1999-04-16</td>\n",
       "      <td>True</td>\n",
       "      <td>123456789</td>\n",
       "      <td>Rua 14</td>\n",
       "      <td>72538173</td>\n",
       "      <td>costadouglas@hotmail.com</td>\n",
       "      <td>['português', 'teologia']</td>\n",
       "    </tr>\n",
       "    <tr>\n",
       "      <th>6</th>\n",
       "      <td>7</td>\n",
       "      <td>Snnider Scharwttiger</td>\n",
       "      <td>2008-01-11</td>\n",
       "      <td>True</td>\n",
       "      <td>123456789</td>\n",
       "      <td>Rua das 24</td>\n",
       "      <td>13582849</td>\n",
       "      <td>desta@hotmail.com</td>\n",
       "      <td>['fisica', 'quimica']</td>\n",
       "    </tr>\n",
       "  </tbody>\n",
       "</table>\n",
       "</div>"
      ],
      "text/plain": [
       "   Matricula                  Nome   Data/Nasc   Sexo        CPF  \\\n",
       "0          1          João Santino  1998-01-03   True  123456789   \n",
       "1          2       Maria Vitctoria  2000-01-04  False  123456789   \n",
       "2          3             Léo Sales  2001-02-10   True  123456789   \n",
       "3          4        Madre Teresino  2002-01-14  False  123456789   \n",
       "4          5       Thiago Ferreira  1990-08-21   True  123456789   \n",
       "5          6       Douglas Costela  1999-04-16   True  123456789   \n",
       "6          7  Snnider Scharwttiger  2008-01-11   True  123456789   \n",
       "\n",
       "       Endereço  Telefone                     Email  \\\n",
       "0         Rua 1  23456789          email1@gmail.com   \n",
       "1         Rua 2  22222223    emailmaria@hotmail.com   \n",
       "2         Rua 3  33333334      emailleo@hotmail.com   \n",
       "3   Rua Denório  44444449    emailmadre@hotmail.com   \n",
       "4  Rua Flincher  66666666       thiagoa@hotmail.com   \n",
       "5        Rua 14  72538173  costadouglas@hotmail.com   \n",
       "6    Rua das 24  13582849         desta@hotmail.com   \n",
       "\n",
       "                      Serviços  \n",
       "0     ['matemática', 'inglês']  \n",
       "1               ['matemática']  \n",
       "2  ['matemática', 'português']  \n",
       "3     ['matemática', 'fisica']  \n",
       "4               ['matemática']  \n",
       "5    ['português', 'teologia']  \n",
       "6        ['fisica', 'quimica']  "
      ]
     },
     "metadata": {},
     "output_type": "display_data"
    }
   ],
   "source": [
    "display(DFclientes)"
   ]
  },
  {
   "cell_type": "code",
   "execution_count": 36,
   "metadata": {},
   "outputs": [
    {
     "data": {
      "text/html": [
       "<div>\n",
       "<style scoped>\n",
       "    .dataframe tbody tr th:only-of-type {\n",
       "        vertical-align: middle;\n",
       "    }\n",
       "\n",
       "    .dataframe tbody tr th {\n",
       "        vertical-align: top;\n",
       "    }\n",
       "\n",
       "    .dataframe thead th {\n",
       "        text-align: right;\n",
       "    }\n",
       "</style>\n",
       "<table border=\"1\" class=\"dataframe\">\n",
       "  <thead>\n",
       "    <tr style=\"text-align: right;\">\n",
       "      <th></th>\n",
       "      <th>Matricula</th>\n",
       "      <th>Nome</th>\n",
       "      <th>CPF</th>\n",
       "      <th>Sexo</th>\n",
       "      <th>Endereço</th>\n",
       "      <th>Telefone</th>\n",
       "      <th>Email</th>\n",
       "      <th>Data/Nasc</th>\n",
       "      <th>Função</th>\n",
       "    </tr>\n",
       "  </thead>\n",
       "  <tbody>\n",
       "    <tr>\n",
       "      <th>0</th>\n",
       "      <td>12345</td>\n",
       "      <td>André</td>\n",
       "      <td>2002-02-20</td>\n",
       "      <td>True</td>\n",
       "      <td>66485800461</td>\n",
       "      <td>Avenida nascimento de castro 1640</td>\n",
       "      <td>988111773</td>\n",
       "      <td>andredamasiodemiranda@gmail.com</td>\n",
       "      <td>['fisica', 'matematica']</td>\n",
       "    </tr>\n",
       "    <tr>\n",
       "      <th>1</th>\n",
       "      <td>12345</td>\n",
       "      <td>Kleyton</td>\n",
       "      <td>1998-06-10</td>\n",
       "      <td>True</td>\n",
       "      <td>38593800438</td>\n",
       "      <td>Avenida nascimento de castro 123</td>\n",
       "      <td>988111873</td>\n",
       "      <td>profkneenndey@gmail.com</td>\n",
       "      <td>['quimica', 'portugues']</td>\n",
       "    </tr>\n",
       "  </tbody>\n",
       "</table>\n",
       "</div>"
      ],
      "text/plain": [
       "   Matricula     Nome         CPF  Sexo     Endereço  \\\n",
       "0      12345    André  2002-02-20  True  66485800461   \n",
       "1      12345  Kleyton  1998-06-10  True  38593800438   \n",
       "\n",
       "                            Telefone      Email  \\\n",
       "0  Avenida nascimento de castro 1640  988111773   \n",
       "1   Avenida nascimento de castro 123  988111873   \n",
       "\n",
       "                         Data/Nasc                    Função  \n",
       "0  andredamasiodemiranda@gmail.com  ['fisica', 'matematica']  \n",
       "1          profkneenndey@gmail.com  ['quimica', 'portugues']  "
      ]
     },
     "metadata": {},
     "output_type": "display_data"
    }
   ],
   "source": [
    "display(DFfuncionarios)"
   ]
  },
  {
   "cell_type": "markdown",
   "metadata": {},
   "source": [
    "## **Correlaciona cada aluno com os professores**"
   ]
  },
  {
   "cell_type": "code",
   "execution_count": 37,
   "metadata": {},
   "outputs": [
    {
     "name": "stdout",
     "output_type": "stream",
     "text": [
      "0       ['matemática', 'inglês']\n",
      "1                 ['matemática']\n",
      "2    ['matemática', 'português']\n",
      "3       ['matemática', 'fisica']\n",
      "4                 ['matemática']\n",
      "5      ['português', 'teologia']\n",
      "6          ['fisica', 'quimica']\n",
      "Name: Serviços, dtype: object \n",
      " 0    ['fisica', 'matematica']\n",
      "1    ['quimica', 'portugues']\n",
      "Name: Função, dtype: object\n"
     ]
    }
   ],
   "source": [
    "Servicos = DFclientes['Serviços']\n",
    "Funcao = DFfuncionarios['Função']\n",
    "\n",
    "print(Servicos, '\\n', Funcao)"
   ]
  },
  {
   "cell_type": "markdown",
   "metadata": {},
   "source": [
    "## **Algumas Consultas:**"
   ]
  },
  {
   "cell_type": "markdown",
   "metadata": {},
   "source": [
    "- Quantos alunos estão matriculados em um determinado curso?\n",
    "- Quais os números dos professores?\n",
    "- Quantas matérias estão disponíveis nesse cursinho?\n",
    "- Existe algum aluno chamado João Victor?"
   ]
  },
  {
   "cell_type": "code",
   "execution_count": 44,
   "metadata": {},
   "outputs": [
    {
     "data": {
      "text/html": [
       "<div>\n",
       "<style scoped>\n",
       "    .dataframe tbody tr th:only-of-type {\n",
       "        vertical-align: middle;\n",
       "    }\n",
       "\n",
       "    .dataframe tbody tr th {\n",
       "        vertical-align: top;\n",
       "    }\n",
       "\n",
       "    .dataframe thead th {\n",
       "        text-align: right;\n",
       "    }\n",
       "</style>\n",
       "<table border=\"1\" class=\"dataframe\">\n",
       "  <thead>\n",
       "    <tr style=\"text-align: right;\">\n",
       "      <th></th>\n",
       "      <th>Matricula</th>\n",
       "      <th>Nome</th>\n",
       "      <th>CPF</th>\n",
       "      <th>Sexo</th>\n",
       "      <th>Endereço</th>\n",
       "      <th>Telefone</th>\n",
       "      <th>Email</th>\n",
       "      <th>Data/Nasc</th>\n",
       "      <th>Função</th>\n",
       "    </tr>\n",
       "  </thead>\n",
       "  <tbody>\n",
       "    <tr>\n",
       "      <th>0</th>\n",
       "      <td>12345</td>\n",
       "      <td>André</td>\n",
       "      <td>2002-02-20</td>\n",
       "      <td>True</td>\n",
       "      <td>66485800461</td>\n",
       "      <td>Avenida nascimento de castro 1640</td>\n",
       "      <td>988111773</td>\n",
       "      <td>andredamasiodemiranda@gmail.com</td>\n",
       "      <td>['fisica', 'matematica']</td>\n",
       "    </tr>\n",
       "  </tbody>\n",
       "</table>\n",
       "</div>"
      ],
      "text/plain": [
       "   Matricula   Nome         CPF  Sexo     Endereço  \\\n",
       "0      12345  André  2002-02-20  True  66485800461   \n",
       "\n",
       "                            Telefone      Email  \\\n",
       "0  Avenida nascimento de castro 1640  988111773   \n",
       "\n",
       "                         Data/Nasc                    Função  \n",
       "0  andredamasiodemiranda@gmail.com  ['fisica', 'matematica']  "
      ]
     },
     "metadata": {},
     "output_type": "display_data"
    }
   ],
   "source": [
    "# Consulta se existe algum Cliente pelo seu nome:\n",
    "\n",
    "def ConsultaNomeCliente(NomeCliente: str):\n",
    "    return DFclientes.loc[DFclientes['Nome'] == NomeCliente]\n",
    "\n",
    "# Consulta se existe algum Funcionario pelo seu nome:\n",
    "\n",
    "def ConsultaNomeFuncionario(NomeFuncionario: str):\n",
    "    return DFfuncionarios.loc[DFfuncionarios['Nome'] == NomeFuncionario]\n",
    "\n",
    "display(ConsultaNomeFuncionario('André'))"
   ]
  },
  {
   "cell_type": "code",
   "execution_count": 42,
   "metadata": {},
   "outputs": [
    {
     "name": "stdout",
     "output_type": "stream",
     "text": [
      "2\n"
     ]
    }
   ],
   "source": [
    "# Consulta o Números de professores:\n",
    "\n",
    "def ConsultaClientes():\n",
    "    return DFclientes.index.value_counts().sum()\n",
    "\n",
    "# Consulta o Números de Clientes:\n",
    "def ConsultaFuncionarios():\n",
    "    return DFfuncionarios.index.value_counts().sum()\n",
    "\n",
    "print(ConsultaFuncionarios())"
   ]
  },
  {
   "cell_type": "code",
   "execution_count": 63,
   "metadata": {},
   "outputs": [
    {
     "name": "stdout",
     "output_type": "stream",
     "text": [
      "0    ['fisica', 'matematica']\n",
      "1    ['quimica', 'portugues']\n",
      "Name: Função, dtype: object\n"
     ]
    }
   ],
   "source": [
    "# Verifica qual profissional é responsável por determina função:\n",
    "\n",
    "def FuncionarioPorFuncao(funcao):\n",
    "    return DFfuncionarios['Função']\n",
    "    \n",
    "print(FuncionarioPorFuncao('matemática'))"
   ]
  }
 ],
 "metadata": {
  "kernelspec": {
   "display_name": "Python 3.9.7 ('base')",
   "language": "python",
   "name": "python3"
  },
  "language_info": {
   "codemirror_mode": {
    "name": "ipython",
    "version": 3
   },
   "file_extension": ".py",
   "mimetype": "text/x-python",
   "name": "python",
   "nbconvert_exporter": "python",
   "pygments_lexer": "ipython3",
   "version": "3.9.7"
  },
  "orig_nbformat": 4,
  "vscode": {
   "interpreter": {
    "hash": "ad2bdc8ecc057115af97d19610ffacc2b4e99fae6737bb82f5d7fb13d2f2c186"
   }
  }
 },
 "nbformat": 4,
 "nbformat_minor": 2
}
