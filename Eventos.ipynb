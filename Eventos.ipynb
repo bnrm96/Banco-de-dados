{
 "cells": [
  {
   "cell_type": "markdown",
   "metadata": {},
   "source": [
    "# **CLASSE DE EVENTOS**"
   ]
  },
  {
   "cell_type": "markdown",
   "metadata": {},
   "source": [
    "Essa classe é responsável por armazenar os eventos que ocorrem no sistema.\n",
    "\n",
    "**Exemplos:**\n",
    "\n",
    "- Alocar corretamente as aulas - envolve professores e alunos.\n",
    "- Alocar corretamente os laboratórios - envolve profissionais capacitados do lab. e inciantes.\n",
    "- Alocar corretamente um profissional do marketing com determinado produto específico.\n",
    "\n",
    "Para realizar essa tarefa, a classe deve realizar consultas nas tabelas de dadosn dos clientes e funcionários e verificar a disponibilidade de cada um deles."
   ]
  },
  {
   "cell_type": "code",
   "execution_count": 1,
   "metadata": {},
   "outputs": [],
   "source": [
    "# Importa as bibliotecas necessárias\n",
    "import pandas as pd\n",
    "import matplotlib.pyplot as plt"
   ]
  },
  {
   "cell_type": "markdown",
   "metadata": {},
   "source": [
    "## **Realiza a consulta nas tabelas**"
   ]
  },
  {
   "cell_type": "code",
   "execution_count": 2,
   "metadata": {},
   "outputs": [],
   "source": [
    "# Utiliza o arquivo csv dos Clientes\n",
    "DFclientes = pd.read_csv('DadosSistema/Clientes.csv')\n",
    "# Utiliza o arquivo csv dos Funcionários\n",
    "DFfuncionarios = pd.read_csv('DadosSistema/Funcionarios.csv')"
   ]
  },
  {
   "cell_type": "markdown",
   "metadata": {},
   "source": [
    "Verifica brevemente se os dados estão sendo importados corretamente."
   ]
  },
  {
   "cell_type": "code",
   "execution_count": 3,
   "metadata": {},
   "outputs": [
    {
     "data": {
      "text/html": [
       "<div>\n",
       "<style scoped>\n",
       "    .dataframe tbody tr th:only-of-type {\n",
       "        vertical-align: middle;\n",
       "    }\n",
       "\n",
       "    .dataframe tbody tr th {\n",
       "        vertical-align: top;\n",
       "    }\n",
       "\n",
       "    .dataframe thead th {\n",
       "        text-align: right;\n",
       "    }\n",
       "</style>\n",
       "<table border=\"1\" class=\"dataframe\">\n",
       "  <thead>\n",
       "    <tr style=\"text-align: right;\">\n",
       "      <th></th>\n",
       "      <th>Matricula</th>\n",
       "      <th>Nome</th>\n",
       "      <th>Data/Nasc</th>\n",
       "      <th>Sexo</th>\n",
       "      <th>CPF</th>\n",
       "      <th>Endereço</th>\n",
       "      <th>Telefone</th>\n",
       "      <th>Email</th>\n",
       "      <th>Serviços</th>\n",
       "    </tr>\n",
       "  </thead>\n",
       "  <tbody>\n",
       "    <tr>\n",
       "      <th>0</th>\n",
       "      <td>1</td>\n",
       "      <td>João Santino</td>\n",
       "      <td>1998-01-03</td>\n",
       "      <td>True</td>\n",
       "      <td>123456789</td>\n",
       "      <td>Rua 1</td>\n",
       "      <td>23456789</td>\n",
       "      <td>email1@gmail.com</td>\n",
       "      <td>['matemática', 'inglês']</td>\n",
       "    </tr>\n",
       "    <tr>\n",
       "      <th>1</th>\n",
       "      <td>2</td>\n",
       "      <td>Maria Vitctoria</td>\n",
       "      <td>2000-01-04</td>\n",
       "      <td>False</td>\n",
       "      <td>123456789</td>\n",
       "      <td>Rua 2</td>\n",
       "      <td>22222223</td>\n",
       "      <td>emailmaria@hotmail.com</td>\n",
       "      <td>['matemática']</td>\n",
       "    </tr>\n",
       "    <tr>\n",
       "      <th>2</th>\n",
       "      <td>3</td>\n",
       "      <td>Léo Sales</td>\n",
       "      <td>2001-02-10</td>\n",
       "      <td>True</td>\n",
       "      <td>123456789</td>\n",
       "      <td>Rua 3</td>\n",
       "      <td>33333334</td>\n",
       "      <td>emailleo@hotmail.com</td>\n",
       "      <td>['matemática', 'português']</td>\n",
       "    </tr>\n",
       "  </tbody>\n",
       "</table>\n",
       "</div>"
      ],
      "text/plain": [
       "   Matricula             Nome   Data/Nasc   Sexo        CPF Endereço  \\\n",
       "0          1     João Santino  1998-01-03   True  123456789    Rua 1   \n",
       "1          2  Maria Vitctoria  2000-01-04  False  123456789    Rua 2   \n",
       "2          3        Léo Sales  2001-02-10   True  123456789    Rua 3   \n",
       "\n",
       "   Telefone                   Email                     Serviços  \n",
       "0  23456789        email1@gmail.com     ['matemática', 'inglês']  \n",
       "1  22222223  emailmaria@hotmail.com               ['matemática']  \n",
       "2  33333334    emailleo@hotmail.com  ['matemática', 'português']  "
      ]
     },
     "execution_count": 3,
     "metadata": {},
     "output_type": "execute_result"
    }
   ],
   "source": [
    "DFclientes.head(3)"
   ]
  },
  {
   "cell_type": "code",
   "execution_count": 4,
   "metadata": {},
   "outputs": [
    {
     "data": {
      "text/html": [
       "<div>\n",
       "<style scoped>\n",
       "    .dataframe tbody tr th:only-of-type {\n",
       "        vertical-align: middle;\n",
       "    }\n",
       "\n",
       "    .dataframe tbody tr th {\n",
       "        vertical-align: top;\n",
       "    }\n",
       "\n",
       "    .dataframe thead th {\n",
       "        text-align: right;\n",
       "    }\n",
       "</style>\n",
       "<table border=\"1\" class=\"dataframe\">\n",
       "  <thead>\n",
       "    <tr style=\"text-align: right;\">\n",
       "      <th></th>\n",
       "      <th>Matricula</th>\n",
       "      <th>Nome</th>\n",
       "      <th>CPF</th>\n",
       "      <th>Sexo</th>\n",
       "      <th>Endereço</th>\n",
       "      <th>Telefone</th>\n",
       "      <th>Email</th>\n",
       "      <th>Data/Nasc</th>\n",
       "      <th>Função</th>\n",
       "    </tr>\n",
       "  </thead>\n",
       "  <tbody>\n",
       "    <tr>\n",
       "      <th>0</th>\n",
       "      <td>12345</td>\n",
       "      <td>André</td>\n",
       "      <td>2002-02-20</td>\n",
       "      <td>True</td>\n",
       "      <td>66485800461</td>\n",
       "      <td>Avenida nascimento de castro 1640</td>\n",
       "      <td>988111773</td>\n",
       "      <td>andredamasiodemiranda@gmail.com</td>\n",
       "      <td>['fisica', 'matematica']</td>\n",
       "    </tr>\n",
       "    <tr>\n",
       "      <th>1</th>\n",
       "      <td>12345</td>\n",
       "      <td>Kleyton</td>\n",
       "      <td>1998-06-10</td>\n",
       "      <td>True</td>\n",
       "      <td>38593800438</td>\n",
       "      <td>Avenida nascimento de castro 123</td>\n",
       "      <td>988111873</td>\n",
       "      <td>profkneenndey@gmail.com</td>\n",
       "      <td>['quimica', 'portugues']</td>\n",
       "    </tr>\n",
       "  </tbody>\n",
       "</table>\n",
       "</div>"
      ],
      "text/plain": [
       "   Matricula     Nome         CPF  Sexo     Endereço  \\\n",
       "0      12345    André  2002-02-20  True  66485800461   \n",
       "1      12345  Kleyton  1998-06-10  True  38593800438   \n",
       "\n",
       "                            Telefone      Email  \\\n",
       "0  Avenida nascimento de castro 1640  988111773   \n",
       "1   Avenida nascimento de castro 123  988111873   \n",
       "\n",
       "                         Data/Nasc                    Função  \n",
       "0  andredamasiodemiranda@gmail.com  ['fisica', 'matematica']  \n",
       "1          profkneenndey@gmail.com  ['quimica', 'portugues']  "
      ]
     },
     "execution_count": 4,
     "metadata": {},
     "output_type": "execute_result"
    }
   ],
   "source": [
    "DFfuncionarios.head(3)"
   ]
  },
  {
   "cell_type": "markdown",
   "metadata": {},
   "source": [
    "## **Correlaciona cada aluno com os professores**"
   ]
  },
  {
   "cell_type": "code",
   "execution_count": 9,
   "metadata": {},
   "outputs": [
    {
     "name": "stdout",
     "output_type": "stream",
     "text": [
      "0       ['matemática', 'inglês']\n",
      "1                 ['matemática']\n",
      "2    ['matemática', 'português']\n",
      "3       ['matemática', 'fisica']\n",
      "4                 ['matemática']\n",
      "5      ['português', 'teologia']\n",
      "6          ['fisica', 'quimica']\n",
      "Name: Serviços, dtype: object \n",
      " 0    ['fisica', 'matematica']\n",
      "1    ['quimica', 'portugues']\n",
      "Name: Função, dtype: object\n"
     ]
    }
   ],
   "source": [
    "Servicos = DFclientes['Serviços']\n",
    "Funcao = DFfuncionarios['Função']\n",
    "\n",
    "print(Servicos, '\\n', Funcao)"
   ]
  },
  {
   "cell_type": "markdown",
   "metadata": {},
   "source": [
    "## **Algumas Consultas:**"
   ]
  },
  {
   "cell_type": "markdown",
   "metadata": {},
   "source": [
    "- Quantos alunos estão matriculados em um determinado curso?\n",
    "- Quais os números dos professores?\n",
    "- Quantas matérias estão disponíveis nesse cursinho?\n",
    "- Existe algum aluno chamado João Victor?"
   ]
  }
 ],
 "metadata": {
  "kernelspec": {
   "display_name": "Python 3.9.0 64-bit",
   "language": "python",
   "name": "python3"
  },
  "language_info": {
   "codemirror_mode": {
    "name": "ipython",
    "version": 3
   },
   "file_extension": ".py",
   "mimetype": "text/x-python",
   "name": "python",
   "nbconvert_exporter": "python",
   "pygments_lexer": "ipython3",
   "version": "3.9.0"
  },
  "orig_nbformat": 4,
  "vscode": {
   "interpreter": {
    "hash": "83db9ccd60aaba7f36d82c7c8a804da99e0bc213c9e856efe6e157fa32ac376b"
   }
  }
 },
 "nbformat": 4,
 "nbformat_minor": 2
}
