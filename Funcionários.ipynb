{
 "cells": [
  {
   "cell_type": "markdown",
   "metadata": {},
   "source": [
    "# **CLASSE DE FUNCIONÁRIOS**"
   ]
  },
  {
   "cell_type": "markdown",
   "metadata": {},
   "source": [
    "Essa classe irá moldar os funcionários. Será criada uma tabela com os dados dos funcionários. Iremos utilizar o framework \"pandas\" para criar a tabela"
   ]
  },
  {
   "cell_type": "code",
   "execution_count": 5,
   "metadata": {},
   "outputs": [],
   "source": [
    "# Biblioteca padrão:\n",
    "import pandas as pd\n",
    "import datetime as pd"
   ]
  },
  {
   "cell_type": "markdown",
   "metadata": {},
   "source": [
    "# **CLASSE DE FUNCIONÁRIOS NO PANDAS**\n"
   ]
  },
  {
   "cell_type": "markdown",
   "metadata": {},
   "source": [
    "Os funcionários devem possuir os seguintes dados:\n",
    "- Nome\n",
    "- CPF\n",
    "- Sexo\n",
    "- Telefone\n",
    "- E-mail\n",
    "- Data de nascimento\n",
    "- Função \n",
    "- Turno\n",
    "\n",
    "Agora, iremos inserir as características dos funcionários no dataframe de dados dos professores."
   ]
  },
  {
   "cell_type": "markdown",
   "metadata": {},
   "source": [
    "# **CLASSE DE FUNCIONÁRIOS NO PANDAS**"
   ]
  },
  {
   "cell_type": "code",
   "execution_count": null,
   "metadata": {},
   "outputs": [],
   "source": [
    "DFfunc = pd.DataFrame(columns = ['Matrícula' , 'Nome' , 'CPF' , 'Sexo' , 'Telefone' , 'Email' , 'Data/Nasc' , 'Função' , 'Turno'])"
   ]
  }
 ],
 "metadata": {
  "kernelspec": {
   "display_name": "Python 3.9.0 64-bit",
   "language": "python",
   "name": "python3"
  },
  "language_info": {
   "name": "python",
   "version": "3.9.0"
  },
  "orig_nbformat": 4,
  "vscode": {
   "interpreter": {
    "hash": "83db9ccd60aaba7f36d82c7c8a804da99e0bc213c9e856efe6e157fa32ac376b"
   }
  }
 },
 "nbformat": 4,
 "nbformat_minor": 2
}
