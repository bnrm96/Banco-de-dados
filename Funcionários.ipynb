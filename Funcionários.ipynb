{
 "cells": [
  {
   "cell_type": "markdown",
   "metadata": {},
   "source": [
    "# **CLASSE DE FUNCIONÁRIOS**"
   ]
  },
  {
   "cell_type": "markdown",
   "metadata": {},
   "source": [
    "Essa classe irá moldar os funcionários. Será criada uma tabela com os dados dos funcionários. Iremos utilizar o framework \"pandas\" para criar a tabela"
   ]
  },
  {
   "cell_type": "code",
   "execution_count": 1,
   "metadata": {},
   "outputs": [],
   "source": [
    "# Biblioteca padrão:\n",
    "import pandas as pd\n",
    "import datetime as dt"
   ]
  },
  {
   "cell_type": "markdown",
   "metadata": {},
   "source": [
    "# **CLASSE DE FUNCIONÁRIOS NO PANDAS**\n"
   ]
  },
  {
   "cell_type": "markdown",
   "metadata": {},
   "source": [
    "Os funcionários devem possuir os seguintes dados:\n",
    "- Matrícula\n",
    "- Nome\n",
    "- CPF\n",
    "- Sexo\n",
    "- Telefone\n",
    "- E-mail\n",
    "- Data de nascimento\n",
    "- Função \n",
    "\n",
    "Agora, iremos inserir as características dos funcionários no dataframe de dados dos professores."
   ]
  },
  {
   "cell_type": "code",
   "execution_count": 2,
   "metadata": {},
   "outputs": [],
   "source": [
    "DFfuncionarios = pd.DataFrame(columns = ['Matricula' , 'Nome' , 'CPF' , 'Sexo' ,'Endereço' ,'Telefone' , 'Email' , 'Data/Nasc' , 'Função' ])"
   ]
  },
  {
   "cell_type": "markdown",
   "metadata": {},
   "source": [
    "# Criando uma função para inserção de dados no modelo relacional.\n"
   ]
  },
  {
   "cell_type": "code",
   "execution_count": 3,
   "metadata": {},
   "outputs": [],
   "source": [
    "# função para cadastrar Funcionários\n",
    "def cadastrarFuncionario(matricula: int,\n",
    "                    nome: str,\n",
    "                    data: dt.date,\n",
    "                    sexo: bool,\n",
    "                    cpf: int,\n",
    "                    endereco: str,\n",
    "                    telefone: int,\n",
    "                    email: str,\n",
    "                    funcao: tuple):\n",
    "    \n",
    "    # --------------------------------------------------------------------- #\n",
    "\n",
    "    # VERIFICA INCONSISTÊNCIA NO CADASTRO   \n",
    "\n",
    "    # Matricula\n",
    "\n",
    "    # Se a matricula já esiver cadastrada, retorna erro\n",
    "    if matricula in DFfuncionarios['Matricula']:\n",
    "        print('Matricula já cadastrada')\n",
    "        return None\n",
    "\n",
    "    # Nome\n",
    "    \n",
    "    # Se o nome for menor que 3 ou maior que 50, retorna erro\n",
    "    if len(nome) < 3 or len(nome) > 50:\n",
    "        print('Nome muito curto ou muito grande')\n",
    "        return None\n",
    "    \n",
    "    # Se o nome já estiver cadastrado, retorna erro\n",
    "    if nome in DFfuncionarios['Nome']:\n",
    "        print('Nome já cadastrado')\n",
    "        return None\n",
    "    \n",
    "    # Data de nascimento\n",
    "\n",
    "    # CPF\n",
    "\n",
    "    # Se o CPF já estiver cadastrado, retorna erro\n",
    "    if cpf in DFfuncionarios['CPF']:\n",
    "        print('CPF já cadastrado')\n",
    "        return None\n",
    "    \n",
    "    # Endereço\n",
    "\n",
    "    # Se o endereço for menor que 5 ou maior que 70, retorna erro\n",
    "    if len(endereco) < 5 or len(endereco) > 70:\n",
    "        print('Endereço muito curto ou muito grande')\n",
    "        return None\n",
    "    \n",
    "    # Telefone\n",
    "\n",
    "    # Se o telefone for menor que 8 ou maior que 10, retorna erro\n",
    "    if len(str(telefone)) < 8 or len(str(telefone)) > 10:\n",
    "        print('Telefone muito curto ou muito grande')\n",
    "        return None\n",
    "\n",
    "    # Email\n",
    "\n",
    "    # Se o email for menor que 5 ou maior que 50, retorna erro\n",
    "    if len(email) < 5 or len(email) > 50:\n",
    "        print('Email muito curto')\n",
    "        return None\n",
    "\n",
    "    # Se o email já estiver cadastrado, retorna erro\n",
    "    if email in DFfuncionarios['Email']:\n",
    "        print('Email já cadastrado')\n",
    "        return None\n",
    "    \n",
    "    # Serviço\n",
    "\n",
    "    if len(funcao) > 3:\n",
    "        print('Número de Serviços Inválido: Número muito grande')\n",
    "        return None\n",
    "    \n",
    "    # --------------------------------------------------------------------- #\n",
    "    \n",
    "    DFfuncionarios.loc[len(DFfuncionarios)] = [matricula, nome, data, sexo, cpf, endereco, telefone, email, funcao]\n",
    "\n",
    "    # -- Mesagem Falando o Status do Cadastro\n",
    "    print('Funcionário cadastrado com sucesso!')\n",
    "    \n",
    "    return None"
   ]
  },
  {
   "cell_type": "markdown",
   "metadata": {},
   "source": [
    "Vamos testar a função para a inserção de dados. Neste exemplo, será consirerado uma situação onde um **cursinho** terá uma base de dados de **professores**:"
   ]
  },
  {
   "cell_type": "code",
   "execution_count": 4,
   "metadata": {},
   "outputs": [
    {
     "name": "stdout",
     "output_type": "stream",
     "text": [
      "Funcionário cadastrado com sucesso!\n",
      "Funcionário cadastrado com sucesso!\n"
     ]
    }
   ],
   "source": [
    "# Iremos testar a função cadastrarFuncionario()\n",
    "cadastrarFuncionario(12345, 'André' , dt.date(2002,2,20), True, 66485800461 , 'Avenida nascimento de castro 1640' , 988111773 , 'andredamasiodemiranda@gmail.com' , ['fisica', 'matematica'])\n",
    "cadastrarFuncionario(92745, 'Kleyton' , dt.date(1998,6,10), True, 38593800438 , 'Avenida nascimento de castro 123' , 188211873 , 'profkneenndey@gmail.com' , ['quimica', 'portugues'])\n"
   ]
  },
  {
   "cell_type": "code",
   "execution_count": 5,
   "metadata": {},
   "outputs": [
    {
     "data": {
      "text/html": [
       "<div>\n",
       "<style scoped>\n",
       "    .dataframe tbody tr th:only-of-type {\n",
       "        vertical-align: middle;\n",
       "    }\n",
       "\n",
       "    .dataframe tbody tr th {\n",
       "        vertical-align: top;\n",
       "    }\n",
       "\n",
       "    .dataframe thead th {\n",
       "        text-align: right;\n",
       "    }\n",
       "</style>\n",
       "<table border=\"1\" class=\"dataframe\">\n",
       "  <thead>\n",
       "    <tr style=\"text-align: right;\">\n",
       "      <th></th>\n",
       "      <th>Matricula</th>\n",
       "      <th>Nome</th>\n",
       "      <th>CPF</th>\n",
       "      <th>Sexo</th>\n",
       "      <th>Endereço</th>\n",
       "      <th>Telefone</th>\n",
       "      <th>Email</th>\n",
       "      <th>Data/Nasc</th>\n",
       "      <th>Função</th>\n",
       "    </tr>\n",
       "  </thead>\n",
       "  <tbody>\n",
       "    <tr>\n",
       "      <th>0</th>\n",
       "      <td>12345</td>\n",
       "      <td>André</td>\n",
       "      <td>2002-02-20</td>\n",
       "      <td>True</td>\n",
       "      <td>66485800461</td>\n",
       "      <td>Avenida nascimento de castro 1640</td>\n",
       "      <td>988111773</td>\n",
       "      <td>andredamasiodemiranda@gmail.com</td>\n",
       "      <td>[fisica, matematica]</td>\n",
       "    </tr>\n",
       "    <tr>\n",
       "      <th>1</th>\n",
       "      <td>92745</td>\n",
       "      <td>Kleyton</td>\n",
       "      <td>1998-06-10</td>\n",
       "      <td>True</td>\n",
       "      <td>38593800438</td>\n",
       "      <td>Avenida nascimento de castro 123</td>\n",
       "      <td>188211873</td>\n",
       "      <td>profkneenndey@gmail.com</td>\n",
       "      <td>[quimica, portugues]</td>\n",
       "    </tr>\n",
       "  </tbody>\n",
       "</table>\n",
       "</div>"
      ],
      "text/plain": [
       "  Matricula     Nome         CPF  Sexo     Endereço  \\\n",
       "0     12345    André  2002-02-20  True  66485800461   \n",
       "1     92745  Kleyton  1998-06-10  True  38593800438   \n",
       "\n",
       "                            Telefone      Email  \\\n",
       "0  Avenida nascimento de castro 1640  988111773   \n",
       "1   Avenida nascimento de castro 123  188211873   \n",
       "\n",
       "                         Data/Nasc                Função  \n",
       "0  andredamasiodemiranda@gmail.com  [fisica, matematica]  \n",
       "1          profkneenndey@gmail.com  [quimica, portugues]  "
      ]
     },
     "metadata": {},
     "output_type": "display_data"
    }
   ],
   "source": [
    "# Vizualizando no banco de dados:\n",
    "display(DFfuncionarios)"
   ]
  },
  {
   "cell_type": "markdown",
   "metadata": {},
   "source": [
    "Esse banco de dados será exportado para um arquivo relacional em formato CSV."
   ]
  },
  {
   "cell_type": "code",
   "execution_count": 6,
   "metadata": {},
   "outputs": [],
   "source": [
    "# Exporta o Banco de dados para um arquivo CSV para a pasta DadosSistema\n",
    "DFfuncionarios.to_csv('DadosSistema/Funcionarios.csv', index=False)"
   ]
  }
 ],
 "metadata": {
  "kernelspec": {
   "display_name": "Python 3.9.7 ('base')",
   "language": "python",
   "name": "python3"
  },
  "language_info": {
   "codemirror_mode": {
    "name": "ipython",
    "version": 3
   },
   "file_extension": ".py",
   "mimetype": "text/x-python",
   "name": "python",
   "nbconvert_exporter": "python",
   "pygments_lexer": "ipython3",
   "version": "3.9.7"
  },
  "orig_nbformat": 4,
  "vscode": {
   "interpreter": {
    "hash": "ad2bdc8ecc057115af97d19610ffacc2b4e99fae6737bb82f5d7fb13d2f2c186"
   }
  }
 },
 "nbformat": 4,
 "nbformat_minor": 2
}
