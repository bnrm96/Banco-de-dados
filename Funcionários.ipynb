{
 "cells": [
  {
   "cell_type": "markdown",
   "metadata": {},
   "source": [
    "# **CLASSE DE FUNCIONÁRIOS**"
   ]
  },
  {
   "cell_type": "markdown",
   "metadata": {},
   "source": [
    "Essa classe irá moldar os funcionários. Será criada uma tabela com os dados dos funcionários. Iremos utilizar o framework \"pandas\" para criar a tabela"
   ]
  },
  {
   "cell_type": "code",
   "execution_count": 2,
   "metadata": {},
   "outputs": [],
   "source": [
    "# Biblioteca padrão:\n",
    "import pandas as pd\n",
    "import datetime as dt\n",
    " "
   ]
  },
  {
   "cell_type": "markdown",
   "metadata": {},
   "source": [
    "# **CLASSE DE FUNCIONÁRIOS NO PANDAS**\n"
   ]
  },
  {
   "cell_type": "markdown",
   "metadata": {},
   "source": [
    "Os funcionários devem possuir os seguintes dados:\n",
    "- Matrícula\n",
    "- Nome\n",
    "- CPF\n",
    "- Sexo\n",
    "- Telefone\n",
    "- E-mail\n",
    "- Data de nascimento\n",
    "- Função \n",
    "\n",
    "Agora, iremos inserir as características dos funcionários no dataframe de dados dos professores."
   ]
  },
  {
   "cell_type": "code",
   "execution_count": 3,
   "metadata": {},
   "outputs": [],
   "source": [
    "DFfuncionarios = pd.DataFrame(columns = ['Matricula' , 'Nome' , 'CPF' , 'Sexo' ,'Endereço' ,'Telefone' , 'Email' , 'Data/Nasc' , 'Função' ])"
   ]
  },
  {
   "cell_type": "markdown",
   "metadata": {},
   "source": [
    "# Criando uma função para inserção de dados no modelo relacional.\n"
   ]
  },
  {
   "cell_type": "code",
   "execution_count": 4,
   "metadata": {},
   "outputs": [],
   "source": [
    "# função para cadastrar Funcionários\n",
    "def cadastrarFuncionario(matricula: int,\n",
    "                    nome: str,\n",
    "                    data: dt.date,\n",
    "                    sexo: bool,\n",
    "                    cpf: int,\n",
    "                    endereco: str,\n",
    "                    telefone: int,\n",
    "                    email: str,\n",
    "                    servico: tuple):\n",
    "    \n",
    "    # Verifica inconsistências no cadastro\n",
    "\n",
    "    if matricula in DFfuncionarios['Matricula']:\n",
    "        print('Matricula já cadastrada')\n",
    "        \n",
    "        return None\n",
    "    \n",
    "    if len(nome) < 3:\n",
    "        print('Nome muito curto')\n",
    "        return None\n",
    "    \n",
    "    if len(endereco) < 3:\n",
    "        print('Endereço muito curto')\n",
    "        return None\n",
    "    \n",
    "    if len(email) < 3:\n",
    "        print('Email muito curto')\n",
    "        return None\n",
    "\n",
    "    if len(servico) > 3:\n",
    "        print('Número de Serviços Inválido')\n",
    "        return None\n",
    "    \n",
    "    DFfuncionarios.loc[len(DFfuncionarios)] = [matricula, nome, data, sexo, cpf, endereco, telefone, email, servico]\n",
    "\n",
    "    # -- Mesagem Falando o Status do Cadastro\n",
    "    print('Cliente cadastrado com sucesso!')\n",
    "    \n",
    "    return None"
   ]
  },
  {
   "cell_type": "markdown",
   "metadata": {},
   "source": [
    "Vamos testar a função para inserção de dados:"
   ]
  },
  {
   "cell_type": "code",
   "execution_count": 5,
   "metadata": {},
   "outputs": [
    {
     "name": "stdout",
     "output_type": "stream",
     "text": [
      "Cliente cadastrado com sucesso!\n",
      "Cliente cadastrado com sucesso!\n"
     ]
    }
   ],
   "source": [
    "# Iremos testar a função cadastrarFuncionario()\n",
    "cadastrarFuncionario(12345, 'André' , dt.date(2002,2,2), True, 66485800468 , 'Avenida nascimento de castro 1640' , 988111773 , 'andredamasiodemiranda@gmail.com' , ['Quimica'])\n",
    "cadastrarFuncionario(12345, 'Kleyton' , dt.date(2002,2,2), True, 66485800468 , 'Avenida nascimento de castro 1640' , 988111773 , 'andredamasiodemiranda@gmail.com' , ['Quimica'])\n"
   ]
  },
  {
   "cell_type": "code",
   "execution_count": 6,
   "metadata": {},
   "outputs": [
    {
     "data": {
      "text/html": [
       "<div>\n",
       "<style scoped>\n",
       "    .dataframe tbody tr th:only-of-type {\n",
       "        vertical-align: middle;\n",
       "    }\n",
       "\n",
       "    .dataframe tbody tr th {\n",
       "        vertical-align: top;\n",
       "    }\n",
       "\n",
       "    .dataframe thead th {\n",
       "        text-align: right;\n",
       "    }\n",
       "</style>\n",
       "<table border=\"1\" class=\"dataframe\">\n",
       "  <thead>\n",
       "    <tr style=\"text-align: right;\">\n",
       "      <th></th>\n",
       "      <th>Matricula</th>\n",
       "      <th>Nome</th>\n",
       "      <th>CPF</th>\n",
       "      <th>Sexo</th>\n",
       "      <th>Endereço</th>\n",
       "      <th>Telefone</th>\n",
       "      <th>Email</th>\n",
       "      <th>Data/Nasc</th>\n",
       "      <th>Função</th>\n",
       "    </tr>\n",
       "  </thead>\n",
       "  <tbody>\n",
       "    <tr>\n",
       "      <th>0</th>\n",
       "      <td>12345</td>\n",
       "      <td>André</td>\n",
       "      <td>2002-02-02</td>\n",
       "      <td>True</td>\n",
       "      <td>66485800468</td>\n",
       "      <td>Avenida nascimento de castro 1640</td>\n",
       "      <td>988111773</td>\n",
       "      <td>andredamasiodemiranda@gmail.com</td>\n",
       "      <td>[Quimica]</td>\n",
       "    </tr>\n",
       "    <tr>\n",
       "      <th>1</th>\n",
       "      <td>12345</td>\n",
       "      <td>Kleyton</td>\n",
       "      <td>2002-02-02</td>\n",
       "      <td>True</td>\n",
       "      <td>66485800468</td>\n",
       "      <td>Avenida nascimento de castro 1640</td>\n",
       "      <td>988111773</td>\n",
       "      <td>andredamasiodemiranda@gmail.com</td>\n",
       "      <td>[Quimica]</td>\n",
       "    </tr>\n",
       "  </tbody>\n",
       "</table>\n",
       "</div>"
      ],
      "text/plain": [
       "  Matricula     Nome         CPF  Sexo     Endereço  \\\n",
       "0     12345    André  2002-02-02  True  66485800468   \n",
       "1     12345  Kleyton  2002-02-02  True  66485800468   \n",
       "\n",
       "                            Telefone      Email  \\\n",
       "0  Avenida nascimento de castro 1640  988111773   \n",
       "1  Avenida nascimento de castro 1640  988111773   \n",
       "\n",
       "                         Data/Nasc     Função  \n",
       "0  andredamasiodemiranda@gmail.com  [Quimica]  \n",
       "1  andredamasiodemiranda@gmail.com  [Quimica]  "
      ]
     },
     "metadata": {},
     "output_type": "display_data"
    }
   ],
   "source": [
    "# Vizualizando no banco de dados:\n",
    "display(DFfuncionarios)"
   ]
  }
 ],
 "metadata": {
  "kernelspec": {
   "display_name": "Python 3.9.0 64-bit",
   "language": "python",
   "name": "python3"
  },
  "language_info": {
   "name": "python",
   "version": "3.9.0"
  },
  "orig_nbformat": 4,
  "vscode": {
   "interpreter": {
    "hash": "83db9ccd60aaba7f36d82c7c8a804da99e0bc213c9e856efe6e157fa32ac376b"
   }
  }
 },
 "nbformat": 4,
 "nbformat_minor": 2
}
