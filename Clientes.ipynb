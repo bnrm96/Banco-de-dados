{
 "cells": [
  {
   "cell_type": "markdown",
   "metadata": {},
   "source": [
    "# **CLASSE DE CLIENTES**"
   ]
  },
  {
   "cell_type": "markdown",
   "metadata": {},
   "source": [
    "Essa classe irá moldar os clientes. Será criada uma tabela com os dados dos clientes. Iremos utilizar o framework ´´pandas´´ para criar a tabela."
   ]
  },
  {
   "cell_type": "code",
   "execution_count": 1,
   "metadata": {},
   "outputs": [],
   "source": [
    "# Bibliotecas padrão:\n",
    "import pandas as pd\n",
    "import datetime as dt"
   ]
  },
  {
   "cell_type": "markdown",
   "metadata": {},
   "source": [
    "## **CLASSE DE CLIENTES NO PANDAS**"
   ]
  },
  {
   "cell_type": "markdown",
   "metadata": {},
   "source": [
    "Os clientes devem possuir os seguintes dados:\n",
    "- Nome\n",
    "- CPF\n",
    "- Sexo\n",
    "- Endereço\n",
    "- Telefone\n",
    "- E-mail\n",
    "- Data de nascimento\n",
    "- Tipo de Serviço\n",
    "\n",
    "Agora, iremos inserir as características dos alunos no dataframe de dados dos clientes."
   ]
  },
  {
   "cell_type": "code",
   "execution_count": 2,
   "metadata": {},
   "outputs": [],
   "source": [
    "DFclientes = pd.DataFrame(columns=['Matricula', 'Nome', 'Data/Nasc', 'Sexo', 'CPF', 'Endereço','Telefone', 'Email', 'Serviços'])"
   ]
  },
  {
   "cell_type": "markdown",
   "metadata": {},
   "source": [
    "# Criando uma função para a inserção de dados no modelo relacional."
   ]
  },
  {
   "cell_type": "code",
   "execution_count": 3,
   "metadata": {},
   "outputs": [],
   "source": [
    "# função para cadastrar clientes\n",
    "def cadastrarCliente(matricula: int,    # Matricula do cliente\n",
    "                    nome: str,          # Nome do cliente\n",
    "                    data: dt.date,      # Data de nascimento do cliente\n",
    "                    sexo: bool,         # Sexo do cliente\n",
    "                    cpf: int,           # CPF do cliente\n",
    "                    endereco: str,      # Endereço do cliente\n",
    "                    telefone: int,      # Telefone do cliente\n",
    "                    email: str,         # Email do cliente\n",
    "                    servico: tuple):    # Serviço do cliente\n",
    "    \n",
    "    # --------------------------------------------------------------------- #\n",
    "\n",
    "    # VERIFICA INCONSISTÊNCIA NO CADASTRO   \n",
    "\n",
    "    # Matricula\n",
    "\n",
    "    # Se a matricula já esiver cadastrada, retorna erro\n",
    "    if matricula in DFclientes['Matricula']:\n",
    "        print('Matricula já cadastrada')\n",
    "        return None\n",
    "\n",
    "    # Nome\n",
    "    \n",
    "    # Se o nome for menor que 3 ou maior que 50, retorna erro\n",
    "    if len(nome) < 3 or len(nome) > 50:\n",
    "        print('Nome muito curto ou muito grande')\n",
    "        return None\n",
    "    \n",
    "    # Se o nome já estiver cadastrado, retorna erro\n",
    "    if nome in DFclientes['Nome']:\n",
    "        print('Nome já cadastrado')\n",
    "        return None\n",
    "    \n",
    "    # Data de nascimento\n",
    "\n",
    "    # CPF\n",
    "\n",
    "    # Se o CPF já estiver cadastrado, retorna erro\n",
    "    if cpf in DFclientes['CPF']:\n",
    "        print('CPF já cadastrado')\n",
    "        return None\n",
    "    \n",
    "    # Endereço\n",
    "\n",
    "    # Se o endereço for menor que 5 ou maior que 70, retorna erro\n",
    "    if len(endereco) < 5 or len(endereco) > 70:\n",
    "        print('Endereço muito curto ou muito grande')\n",
    "        return None\n",
    "    \n",
    "    # Telefone\n",
    "\n",
    "    # Se o telefone for menor que 8 ou maior que 10, retorna erro\n",
    "    if len(str(telefone)) < 8 or len(str(telefone)) > 10:\n",
    "        print('Telefone muito curto ou muito grande')\n",
    "        return None\n",
    "\n",
    "    # Email\n",
    "\n",
    "    # Se o email for menor que 5 ou maior que 50, retorna erro\n",
    "    if len(email) < 5 or len(email) > 50:\n",
    "        print('Email muito curto')\n",
    "        return None\n",
    "\n",
    "    # Se o email já estiver cadastrado, retorna erro\n",
    "    if email in DFclientes['Email']:\n",
    "        print('Email já cadastrado')\n",
    "        return None\n",
    "    \n",
    "    # Serviço\n",
    "\n",
    "    if len(servico) > 3:\n",
    "        print('Número de Serviços Inválido: Número muito grande')\n",
    "        return None\n",
    "    \n",
    "    # --------------------------------------------------------------------- #\n",
    "    # Insere os dados no DataFrame dos clientes\n",
    "    \n",
    "    DFclientes.loc[len(DFclientes)] = [matricula, nome, data, sexo, cpf, endereco, telefone, email, servico]\n",
    "\n",
    "    # -- Mesagem Falando o Status do Cadastro\n",
    "    print('Cliente cadastrado com sucesso!')\n",
    "    \n",
    "    return None"
   ]
  },
  {
   "cell_type": "markdown",
   "metadata": {},
   "source": [
    "Vamos testar a função para a inserção de dados. Neste exemplo, será consirerado uma situação onde um **cursinho** terá uma base de dados de **alunos**:"
   ]
  },
  {
   "cell_type": "code",
   "execution_count": 4,
   "metadata": {},
   "outputs": [
    {
     "name": "stdout",
     "output_type": "stream",
     "text": [
      "Cliente cadastrado com sucesso!\n",
      "Cliente cadastrado com sucesso!\n",
      "Cliente cadastrado com sucesso!\n",
      "Cliente cadastrado com sucesso!\n",
      "Cliente cadastrado com sucesso!\n",
      "Cliente cadastrado com sucesso!\n",
      "Cliente cadastrado com sucesso!\n"
     ]
    }
   ],
   "source": [
    "# Iremos testar a função cadastrarCliente()\n",
    "cadastrarCliente(1, 'João Santino', dt.date(1998, 1, 3), True, 123456789, 'Rua 1', 23456789, 'email1@gmail.com', ['matemática', 'inglês'])\n",
    "cadastrarCliente(2, 'Maria Vitctoria', dt.date(2000, 1, 4), False, 123456789, 'Rua 2', 22222223, 'emailmaria@hotmail.com', ['matemática'])\n",
    "cadastrarCliente(3, 'Léo Sales', dt.date(2001, 2, 10), True, 123456789, 'Rua 3', 33333334, 'emailleo@hotmail.com', ['matemática', 'português'])\n",
    "cadastrarCliente(4, 'Madre Teresino', dt.date(2002, 1, 14), False, 123456789, 'Rua Denório', 44444449, 'emailmadre@hotmail.com', ['matemática', 'fisica'])\n",
    "cadastrarCliente(5, 'Thiago Ferreira', dt.date(1990, 8, 21), True, 123456789, 'Rua Flincher', 66666666, 'thiagoa@hotmail.com', ['matemática'])\n",
    "cadastrarCliente(6, 'Douglas Costela', dt.date(1999, 4, 16), True, 123456789, 'Rua 14', 72538173, 'costadouglas@hotmail.com', ['português', 'teologia'])\n",
    "cadastrarCliente(7, 'Snnider Scharwttiger', dt.date(2008, 1, 11), True, 123456789, 'Rua das 24', 13582849, 'desta@hotmail.com', ['fisica', 'quimica'])\n"
   ]
  },
  {
   "cell_type": "code",
   "execution_count": 5,
   "metadata": {},
   "outputs": [
    {
     "data": {
      "text/html": [
       "<div>\n",
       "<style scoped>\n",
       "    .dataframe tbody tr th:only-of-type {\n",
       "        vertical-align: middle;\n",
       "    }\n",
       "\n",
       "    .dataframe tbody tr th {\n",
       "        vertical-align: top;\n",
       "    }\n",
       "\n",
       "    .dataframe thead th {\n",
       "        text-align: right;\n",
       "    }\n",
       "</style>\n",
       "<table border=\"1\" class=\"dataframe\">\n",
       "  <thead>\n",
       "    <tr style=\"text-align: right;\">\n",
       "      <th></th>\n",
       "      <th>Matricula</th>\n",
       "      <th>Nome</th>\n",
       "      <th>Data/Nasc</th>\n",
       "      <th>Sexo</th>\n",
       "      <th>CPF</th>\n",
       "      <th>Endereço</th>\n",
       "      <th>Telefone</th>\n",
       "      <th>Email</th>\n",
       "      <th>Serviços</th>\n",
       "    </tr>\n",
       "  </thead>\n",
       "  <tbody>\n",
       "    <tr>\n",
       "      <th>0</th>\n",
       "      <td>1</td>\n",
       "      <td>João Santino</td>\n",
       "      <td>1998-01-03</td>\n",
       "      <td>True</td>\n",
       "      <td>123456789</td>\n",
       "      <td>Rua 1</td>\n",
       "      <td>23456789</td>\n",
       "      <td>email1@gmail.com</td>\n",
       "      <td>[matemática, inglês]</td>\n",
       "    </tr>\n",
       "    <tr>\n",
       "      <th>1</th>\n",
       "      <td>2</td>\n",
       "      <td>Maria Vitctoria</td>\n",
       "      <td>2000-01-04</td>\n",
       "      <td>False</td>\n",
       "      <td>123456789</td>\n",
       "      <td>Rua 2</td>\n",
       "      <td>22222223</td>\n",
       "      <td>emailmaria@hotmail.com</td>\n",
       "      <td>[matemática]</td>\n",
       "    </tr>\n",
       "    <tr>\n",
       "      <th>2</th>\n",
       "      <td>3</td>\n",
       "      <td>Léo Sales</td>\n",
       "      <td>2001-02-10</td>\n",
       "      <td>True</td>\n",
       "      <td>123456789</td>\n",
       "      <td>Rua 3</td>\n",
       "      <td>33333334</td>\n",
       "      <td>emailleo@hotmail.com</td>\n",
       "      <td>[matemática, português]</td>\n",
       "    </tr>\n",
       "    <tr>\n",
       "      <th>3</th>\n",
       "      <td>4</td>\n",
       "      <td>Madre Teresino</td>\n",
       "      <td>2002-01-14</td>\n",
       "      <td>False</td>\n",
       "      <td>123456789</td>\n",
       "      <td>Rua Denório</td>\n",
       "      <td>44444449</td>\n",
       "      <td>emailmadre@hotmail.com</td>\n",
       "      <td>[matemática, fisica]</td>\n",
       "    </tr>\n",
       "    <tr>\n",
       "      <th>4</th>\n",
       "      <td>5</td>\n",
       "      <td>Thiago Ferreira</td>\n",
       "      <td>1990-08-21</td>\n",
       "      <td>True</td>\n",
       "      <td>123456789</td>\n",
       "      <td>Rua Flincher</td>\n",
       "      <td>66666666</td>\n",
       "      <td>thiagoa@hotmail.com</td>\n",
       "      <td>[matemática]</td>\n",
       "    </tr>\n",
       "    <tr>\n",
       "      <th>5</th>\n",
       "      <td>6</td>\n",
       "      <td>Douglas Costela</td>\n",
       "      <td>1999-04-16</td>\n",
       "      <td>True</td>\n",
       "      <td>123456789</td>\n",
       "      <td>Rua 14</td>\n",
       "      <td>72538173</td>\n",
       "      <td>costadouglas@hotmail.com</td>\n",
       "      <td>[português, teologia]</td>\n",
       "    </tr>\n",
       "    <tr>\n",
       "      <th>6</th>\n",
       "      <td>7</td>\n",
       "      <td>Snnider Scharwttiger</td>\n",
       "      <td>2008-01-11</td>\n",
       "      <td>True</td>\n",
       "      <td>123456789</td>\n",
       "      <td>Rua das 24</td>\n",
       "      <td>13582849</td>\n",
       "      <td>desta@hotmail.com</td>\n",
       "      <td>[fisica, quimica]</td>\n",
       "    </tr>\n",
       "  </tbody>\n",
       "</table>\n",
       "</div>"
      ],
      "text/plain": [
       "  Matricula                  Nome   Data/Nasc   Sexo        CPF      Endereço  \\\n",
       "0         1          João Santino  1998-01-03   True  123456789         Rua 1   \n",
       "1         2       Maria Vitctoria  2000-01-04  False  123456789         Rua 2   \n",
       "2         3             Léo Sales  2001-02-10   True  123456789         Rua 3   \n",
       "3         4        Madre Teresino  2002-01-14  False  123456789   Rua Denório   \n",
       "4         5       Thiago Ferreira  1990-08-21   True  123456789  Rua Flincher   \n",
       "5         6       Douglas Costela  1999-04-16   True  123456789        Rua 14   \n",
       "6         7  Snnider Scharwttiger  2008-01-11   True  123456789    Rua das 24   \n",
       "\n",
       "   Telefone                     Email                 Serviços  \n",
       "0  23456789          email1@gmail.com     [matemática, inglês]  \n",
       "1  22222223    emailmaria@hotmail.com             [matemática]  \n",
       "2  33333334      emailleo@hotmail.com  [matemática, português]  \n",
       "3  44444449    emailmadre@hotmail.com     [matemática, fisica]  \n",
       "4  66666666       thiagoa@hotmail.com             [matemática]  \n",
       "5  72538173  costadouglas@hotmail.com    [português, teologia]  \n",
       "6  13582849         desta@hotmail.com        [fisica, quimica]  "
      ]
     },
     "metadata": {},
     "output_type": "display_data"
    }
   ],
   "source": [
    "# Vizualizando o Banco de dados:\n",
    "display(DFclientes)"
   ]
  },
  {
   "cell_type": "markdown",
   "metadata": {},
   "source": [
    "Esse banco de dados será exportado para um arquivo relacional em formato CSV."
   ]
  },
  {
   "cell_type": "code",
   "execution_count": 6,
   "metadata": {},
   "outputs": [],
   "source": [
    "# Exporta o Banco de dados para um arquivo CSV para a pasta DadosSistema\n",
    "DFclientes.to_csv('DadosSistema/Clientes.csv', index=False)"
   ]
  }
 ],
 "metadata": {
  "kernelspec": {
   "display_name": "Python 3.9.0 64-bit",
   "language": "python",
   "name": "python3"
  },
  "language_info": {
   "codemirror_mode": {
    "name": "ipython",
    "version": 3
   },
   "file_extension": ".py",
   "mimetype": "text/x-python",
   "name": "python",
   "nbconvert_exporter": "python",
   "pygments_lexer": "ipython3",
   "version": "3.9.0"
  },
  "orig_nbformat": 4,
  "vscode": {
   "interpreter": {
    "hash": "83db9ccd60aaba7f36d82c7c8a804da99e0bc213c9e856efe6e157fa32ac376b"
   }
  }
 },
 "nbformat": 4,
 "nbformat_minor": 2
}
