{
 "cells": [
  {
   "cell_type": "markdown",
   "metadata": {},
   "source": [
    "# **CLASSE DE CLIENTES**"
   ]
  },
  {
   "cell_type": "markdown",
   "metadata": {},
   "source": [
    "Essa classe irá moldar os clientes. Será criada uma tabela com os dados dos clientes. Iremos utilizar o framework ´´pandas´´ para criar a tabela."
   ]
  },
  {
   "cell_type": "code",
   "execution_count": 1,
   "metadata": {},
   "outputs": [],
   "source": [
    "# Bibliotecas padrão:\n",
    "import pandas as pd\n",
    "import datetime as dt"
   ]
  },
  {
   "cell_type": "markdown",
   "metadata": {},
   "source": [
    "## **CLASSE DE CLIENTES NO PANDAS**"
   ]
  },
  {
   "cell_type": "markdown",
   "metadata": {},
   "source": [
    "Os clientes devem possuir os seguintes dados:\n",
    "- Nome\n",
    "- CPF\n",
    "- Sexo\n",
    "- Endereço\n",
    "- Telefone\n",
    "- E-mail\n",
    "- Data de nascimento\n",
    "- Função\n",
    "- Turno\n",
    "\n",
    "Agora, iremos inserir as características dos alunos no dataframe de dados dos clientes."
   ]
  },
  {
   "cell_type": "code",
   "execution_count": 2,
   "metadata": {},
   "outputs": [],
   "source": [
    "DFclientes = pd.DataFrame(columns=['Matricula', 'Nome', 'CPF', 'Sexo', 'Endereço','Telefone', 'Email','Data/Nasc' ,'Função','Turno' ])"
   ]
  },
  {
   "cell_type": "markdown",
   "metadata": {},
   "source": [
    "# Criando uma função para a inserção de dados no modelo relacional."
   ]
  },
  {
   "cell_type": "code",
   "execution_count": 3,
   "metadata": {},
   "outputs": [],
   "source": [
    "# função para cadastrar clientes\n",
    "def cadastrarCliente(matricula: int,\n",
    "                    nome: str,\n",
    "                    data: dt.date,\n",
    "                    sexo: bool,\n",
    "                    cpf: int,\n",
    "                    endereco: str,\n",
    "                    telefone: int,\n",
    "                    email: str,\n",
    "                    servico: tuple):\n",
    "    \n",
    "    # Verifica inconsistências no cadastro\n",
    "\n",
    "    if matricula in DFclientes['Matricula']:\n",
    "        print('Matricula já cadastrada')\n",
    "        return None\n",
    "    \n",
    "    if len(nome) < 3:\n",
    "        print('Nome muito curto')\n",
    "        return None\n",
    "    \n",
    "    if len(endereco) < 3:\n",
    "        print('Endereço muito curto')\n",
    "        return None\n",
    "    \n",
    "    if len(email) < 3:\n",
    "        print('Email muito curto')\n",
    "        return None\n",
    "\n",
    "    if len(servico) > 3:\n",
    "        print('Número de Serviços Inválido')\n",
    "        return None\n",
    "    \n",
    "    DFclientes.loc[len(DFclientes)] = [matricula, nome, data, sexo, cpf, endereco, telefone, email, servico]\n",
    "\n",
    "    # -- Mesagem Falando o Status do Cadastro\n",
    "    print('Cliente cadastrado com sucesso!')\n",
    "    \n",
    "    return None"
   ]
  },
  {
   "cell_type": "markdown",
   "metadata": {},
   "source": [
    "Vamos testar a função para a inserção de dados:"
   ]
  },
  {
   "cell_type": "code",
   "execution_count": 4,
   "metadata": {},
   "outputs": [
    {
     "name": "stdout",
     "output_type": "stream",
     "text": [
      "Cliente cadastrado com sucesso!\n",
      "Cliente cadastrado com sucesso!\n"
     ]
    }
   ],
   "source": [
    "# Iremos testar a função cadastrarCliente()\n",
    "cadastrarCliente(12, 'João', dt.date(2000, 1, 1), True, 123456789, 'Rua 1', 123456789, 'email@gmail.com', ['matemática', 'inglês'])\n",
    "cadastrarCliente(415, 'Maria', dt.date(2000, 1, 1), True, 123456789, 'Rua 1', 123456789, 'emailmaria@hotmail.com', ['matemática'])"
   ]
  },
  {
   "cell_type": "code",
   "execution_count": 6,
   "metadata": {},
   "outputs": [
    {
     "data": {
      "text/html": [
       "<div>\n",
       "<style scoped>\n",
       "    .dataframe tbody tr th:only-of-type {\n",
       "        vertical-align: middle;\n",
       "    }\n",
       "\n",
       "    .dataframe tbody tr th {\n",
       "        vertical-align: top;\n",
       "    }\n",
       "\n",
       "    .dataframe thead th {\n",
       "        text-align: right;\n",
       "    }\n",
       "</style>\n",
       "<table border=\"1\" class=\"dataframe\">\n",
       "  <thead>\n",
       "    <tr style=\"text-align: right;\">\n",
       "      <th></th>\n",
       "      <th>Matricula</th>\n",
       "      <th>Nome</th>\n",
       "      <th>Data/Nasc</th>\n",
       "      <th>Sexo</th>\n",
       "      <th>CPF</th>\n",
       "      <th>Endereço</th>\n",
       "      <th>Telefone</th>\n",
       "      <th>Email</th>\n",
       "      <th>servico</th>\n",
       "    </tr>\n",
       "  </thead>\n",
       "  <tbody>\n",
       "    <tr>\n",
       "      <th>0</th>\n",
       "      <td>12</td>\n",
       "      <td>João</td>\n",
       "      <td>2000-01-01</td>\n",
       "      <td>True</td>\n",
       "      <td>123456789</td>\n",
       "      <td>Rua 1</td>\n",
       "      <td>123456789</td>\n",
       "      <td>email@gmail.com</td>\n",
       "      <td>[matemática, inglês]</td>\n",
       "    </tr>\n",
       "    <tr>\n",
       "      <th>1</th>\n",
       "      <td>415</td>\n",
       "      <td>Maria</td>\n",
       "      <td>2000-01-01</td>\n",
       "      <td>True</td>\n",
       "      <td>123456789</td>\n",
       "      <td>Rua 1</td>\n",
       "      <td>123456789</td>\n",
       "      <td>emailmaria@hotmail.com</td>\n",
       "      <td>[matemática]</td>\n",
       "    </tr>\n",
       "  </tbody>\n",
       "</table>\n",
       "</div>"
      ],
      "text/plain": [
       "  Matricula   Nome   Data/Nasc  Sexo        CPF Endereço   Telefone  \\\n",
       "0        12   João  2000-01-01  True  123456789    Rua 1  123456789   \n",
       "1       415  Maria  2000-01-01  True  123456789    Rua 1  123456789   \n",
       "\n",
       "                    Email               servico  \n",
       "0         email@gmail.com  [matemática, inglês]  \n",
       "1  emailmaria@hotmail.com          [matemática]  "
      ]
     },
     "metadata": {},
     "output_type": "display_data"
    }
   ],
   "source": [
    "# Vizualizando o Banco de dados:\n",
    "display(DFclientes)"
   ]
  }
 ],
 "metadata": {
  "kernelspec": {
   "display_name": "Python 3.9.0 64-bit",
   "language": "python",
   "name": "python3"
  },
  "language_info": {
   "codemirror_mode": {
    "name": "ipython",
    "version": 3
   },
   "file_extension": ".py",
   "mimetype": "text/x-python",
   "name": "python",
   "nbconvert_exporter": "python",
   "pygments_lexer": "ipython3",
   "version": "3.9.0"
  },
  "orig_nbformat": 4,
  "vscode": {
   "interpreter": {
    "hash": "83db9ccd60aaba7f36d82c7c8a804da99e0bc213c9e856efe6e157fa32ac376b"
   }
  }
 },
 "nbformat": 4,
 "nbformat_minor": 2
}
