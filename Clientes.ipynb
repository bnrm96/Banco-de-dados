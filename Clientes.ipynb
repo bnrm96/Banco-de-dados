{
 "cells": [
  {
   "cell_type": "markdown",
   "metadata": {},
   "source": [
    "# **CLASSE DE CLIENTES**"
   ]
  },
  {
   "cell_type": "markdown",
   "metadata": {},
   "source": [
    "Essa classe irá moldar os clientes. Será criada uma tabela com os dados dos clientes. Iremos utilizar o framework ´´pandas´´ para criar a tabela."
   ]
  },
  {
   "cell_type": "code",
   "execution_count": 12,
   "metadata": {},
   "outputs": [],
   "source": [
    "# Bibliotecas padrão:\n",
    "import pandas as pd\n",
    "import datetime as dt"
   ]
  },
  {
   "cell_type": "markdown",
   "metadata": {},
   "source": [
    "## **CLASSE DE CLIENTES NO PANDAS**"
   ]
  },
  {
   "cell_type": "markdown",
   "metadata": {},
   "source": [
    "Os clientes devem possuir os seguintes dados:\n",
    "- Nome\n",
    "- CPF\n",
    "- Sexo\n",
    "- Endereço\n",
    "- Telefone\n",
    "- E-mail\n",
    "- Data de nascimento\n",
    "- Turno\n",
    "- SItuação\n",
    "\n",
    "Agora, iremos inserir as características dos alunos no dataframe de dados dos clientes."
   ]
  },
  {
   "cell_type": "code",
   "execution_count": 13,
   "metadata": {},
   "outputs": [],
   "source": [
    "DFclientes = pd.DataFrame(columns=['Matricula', 'Nome', 'Data/Nasc', 'Sexo', 'CPF', 'Endereço','Telefone', 'Email', 'Turno', 'Pendencias'], index=[0])"
   ]
  },
  {
   "cell_type": "markdown",
   "metadata": {},
   "source": [
    "# Criando uma função para a inserção de dados no modelo relacional."
   ]
  },
  {
   "cell_type": "code",
   "execution_count": 21,
   "metadata": {},
   "outputs": [],
   "source": [
    "# função para cadastrar clientes\n",
    "def cadastrarCliente(matricula: int,\n",
    "                    nome: str,\n",
    "                    data: dt.date,\n",
    "                    sexo: bool,\n",
    "                    cpf: int,\n",
    "                    endereco: str,\n",
    "                    telefone: int,\n",
    "                    email: str,\n",
    "                    turno: int,\n",
    "                    pendencias: bool):\n",
    "    \n",
    "    # Verifica inconsistências no cadastro\n",
    "    if matricula in DFclientes['Matricula']:\n",
    "        print('Matricula já cadastrada')\n",
    "        return None\n",
    "    \n",
    "    if len(nome) < 3:\n",
    "        print('Nome muito curto')\n",
    "        return None\n",
    "    \n",
    "    if len(endereco) < 3:\n",
    "        print('Endereço muito curto')\n",
    "        return None\n",
    "    \n",
    "    if len(email) < 3:\n",
    "        print('Email muito curto')\n",
    "        return None\n",
    "    \n",
    "    DFclientes.loc[len(DFclientes)] = [matricula, nome, data, sexo, cpf, endereco, telefone, email, turno, pendencias]\n",
    "    print('Cliente cadastrado com sucesso!')\n",
    "    return DFclientes"
   ]
  },
  {
   "cell_type": "markdown",
   "metadata": {},
   "source": [
    "Vamos testar a função para a inserção de dados:"
   ]
  },
  {
   "cell_type": "code",
   "execution_count": 24,
   "metadata": {},
   "outputs": [
    {
     "name": "stdout",
     "output_type": "stream",
     "text": [
      "Matricula já cadastrada\n"
     ]
    }
   ],
   "source": [
    "# Iremos testar a função cadastrarCliente()\n",
    "cadastrarCliente(0, 'João', dt.date(2000, 1, 1), True, 123456789, 'Rua 1', 123456789, 'email@gmail.com', 1, False)\n",
    "\n"
   ]
  }
 ],
 "metadata": {
  "kernelspec": {
   "display_name": "Python 3.9.0 64-bit",
   "language": "python",
   "name": "python3"
  },
  "language_info": {
   "codemirror_mode": {
    "name": "ipython",
    "version": 3
   },
   "file_extension": ".py",
   "mimetype": "text/x-python",
   "name": "python",
   "nbconvert_exporter": "python",
   "pygments_lexer": "ipython3",
   "version": "3.9.0"
  },
  "orig_nbformat": 4,
  "vscode": {
   "interpreter": {
    "hash": "83db9ccd60aaba7f36d82c7c8a804da99e0bc213c9e856efe6e157fa32ac376b"
   }
  }
 },
 "nbformat": 4,
 "nbformat_minor": 2
}
